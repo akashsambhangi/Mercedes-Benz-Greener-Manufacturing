{
 "cells": [
  {
   "cell_type": "code",
   "execution_count": 1,
   "metadata": {},
   "outputs": [],
   "source": [
    "import numpy as np \n",
    "import pandas as pd \n",
    "import os\n",
    "import matplotlib.pyplot as plt\n",
    "import seaborn as sns\n",
    "import xgboost as xgb\n",
    "from sklearn.metrics import r2_score\n",
    "from sklearn import preprocessing\n",
    "from sklearn.model_selection import train_test_split\n",
    "from cluster_target_encoder import cluster_target_encoder\n",
    "import pickle\n",
    "pd.options.mode.chained_assignment = None\n",
    "import warnings\n",
    "warnings.simplefilter(action='ignore', category=FutureWarning)"
   ]
  },
  {
   "cell_type": "code",
   "execution_count": 2,
   "metadata": {},
   "outputs": [
    {
     "name": "stdout",
     "output_type": "stream",
     "text": [
      "Train Metric: 0.5762407803099825\n",
      "Validation Metric: 0.666801651053621\n"
     ]
    }
   ],
   "source": [
    "df_train = pd.read_csv('train.csv')\n",
    "df_test = pd.read_csv('test.csv')\n",
    "feats_to_drop = np.load('feats_to_drop.npy')\n",
    "best_model = pickle.load(open('best_model.sav','rb'))\n",
    "\n",
    "labels = df_train['y']\n",
    "df_train.drop('y', axis=1,inplace=True)\n",
    "\n",
    "\n",
    "#to add new feature label.\n",
    "encoder = cluster_target_encoder(nclusters=4,seed=0)\n",
    "encoder.fit(df_train['X0'],labels)\n",
    "\n",
    "x_train, x_valid, y_train, y_valid = train_test_split(df_train, labels, test_size=0.2, random_state=420)\n",
    "\n",
    "def final_predict(df,actual):\n",
    "    '''\n",
    "    This function takes a dataframe removes the unwanted features adds necessary features and predicts the output using \n",
    "    the best model.\n",
    "    '''\n",
    "    #Drop features\n",
    "    df.drop(feats_to_drop,axis=1,inplace=True)\n",
    "    \n",
    "    #adding new features\n",
    "    df['X29+X127+X276'] = df['X29'] + df['X127'] + df['X276']\n",
    "    df['X136+X314+X315'] = df['X136'] + df['X314'] + df['X315']\n",
    "    df['X136+X179+X261'] = df['X136'] + df['X179'] + df['X261']\n",
    "    \n",
    "    #adding lable feature\n",
    "    labels=encoder.transform(df['X0'])\n",
    "    df['labels'] = labels\n",
    "    \n",
    "    #encoding categorical features\n",
    "    categorical=[]\n",
    "    mapper = lambda x: sum([ord(digit) for digit in x])\n",
    "    for i in df.columns:\n",
    "        if df[i].dtype=='object':\n",
    "            df[i] = df[i].apply(mapper)   \n",
    "\n",
    "    dmatrix = xgb.DMatrix(df, label=actual)\n",
    "    preds = best_model.predict(dmatrix)\n",
    "    score = r2_score(actual, preds)\n",
    "    return score\n",
    "\n",
    "train_metric = final_predict(x_train,y_train)\n",
    "val_metric = final_predict(x_valid,y_valid)\n",
    "\n",
    "print(\"Train Metric:\", train_metric)\n",
    "print(\"Validation Metric:\", val_metric)"
   ]
  }
 ],
 "metadata": {
  "kernelspec": {
   "display_name": "Python 3",
   "language": "python",
   "name": "python3"
  },
  "language_info": {
   "codemirror_mode": {
    "name": "ipython",
    "version": 3
   },
   "file_extension": ".py",
   "mimetype": "text/x-python",
   "name": "python",
   "nbconvert_exporter": "python",
   "pygments_lexer": "ipython3",
   "version": "3.7.3"
  }
 },
 "nbformat": 4,
 "nbformat_minor": 2
}
